{
 "cells": [
  {
   "cell_type": "markdown",
   "metadata": {},
   "source": [
    "# Plotting Accumulated Rewards"
   ]
  },
  {
   "cell_type": "code",
   "execution_count": 20,
   "metadata": {},
   "outputs": [],
   "source": [
    "import pandas as pd\n",
    "import numpy as np\n",
    "import glob\n",
    "import re\n",
    "from pandas import DataFrame"
   ]
  },
  {
   "cell_type": "code",
   "execution_count": 236,
   "metadata": {
    "collapsed": true
   },
   "outputs": [
    {
     "name": "stdout",
     "output_type": "stream",
     "text": [
      "./social/social_3-12_eli.txt\n",
      "./social/social_3-12_apoorva.txt\n",
      "./social/social_3-12_xiang.txt\n",
      "./social/social_3-12_cao.txt\n",
      "./social/social_3-12_xianhao.txt\n",
      "./social/social_3-12_lyu.txt\n",
      "./social/social_3-12_tim.txt\n",
      "./social/social_3-12_snehal.txt\n",
      "./social/social_3-12_lu.txt\n",
      "./social/social_3-12_marianne.txt\n",
      "./social/social_3-12_sanne.txt\n",
      "./social/social_3-12_paul.txt\n",
      "./social/social_3-12_han.txt\n",
      "./social/social_3-12_simone.txt\n",
      "./social/social_3-12_Ziyu.txt\n",
      "./social/social_3-12_teresa.txt\n",
      "./social/social_3-12_chitra.txt\n",
      "./social/social_3-12_fanis.txt\n",
      "./social/social_3-12_liu.txt\n",
      "./social/social_3-12_shiyu.txt\n"
     ]
    }
   ],
   "source": [
    "## First setting\n",
    "list_of_files = glob.glob('./social/*3-12*.txt')   # create the list of file\n",
    "dataset = DataFrame({\"Step\":range(400)})\n",
    "count = 1;\n",
    "for file_name in list_of_files:\n",
    "    print(file_name)\n",
    "    data = pd.read_csv(file_name,header=None)\n",
    "    data = data.replace(\" \", \"\")\n",
    "    d = []\n",
    "    for i in data.iloc[:,3]:\n",
    "        i = re.sub(r'[ a-z]+','',i)\n",
    "        d.append(i)\n",
    "    dataset[str(count)] = d#.astype(\"float\")\n",
    "    #print([:5])\n",
    "    count = count+1"
   ]
  },
  {
   "cell_type": "code",
   "execution_count": 237,
   "metadata": {
    "collapsed": true
   },
   "outputs": [
    {
     "name": "stdout",
     "output_type": "stream",
     "text": [
      "   Step    1    2    3    4    5    6    7    8    9 ...    11   12   13   14  \\\n",
      "0     0  0.0  0.0  0.0  0.0  0.0  0.0  0.0  0.0  0.0 ...   0.0  0.0  0.0  0.0   \n",
      "1     1  0.0  0.0  0.0  0.0  0.0  0.0  0.0  0.0  0.0 ...   0.0  0.0  0.0  0.0   \n",
      "2     2  0.0  0.0  0.0  0.0  0.0  0.0  0.0  0.0  0.0 ...   0.0  0.0  0.0  0.0   \n",
      "3     3  0.0  0.0  0.0  0.0  0.0  0.0  0.0  0.0  0.0 ...   0.0  0.0  0.0  0.0   \n",
      "4     4  0.0  0.0  0.0  0.0  0.0  0.0  0.0  0.0  0.0 ...   0.0  0.0  0.0  0.0   \n",
      "\n",
      "    15   16   17   18   19   20  \n",
      "0  0.0  0.0  0.0  0.0  0.0  0.0  \n",
      "1  0.0  0.0  0.0  0.0  0.0  0.0  \n",
      "2  0.0  0.0  0.0  0.0  0.0  0.0  \n",
      "3  0.0  0.0  0.0  0.0  0.0  0.0  \n",
      "4  0.0  0.0  0.0  0.0  0.0  0.0  \n",
      "\n",
      "[5 rows x 21 columns]\n"
     ]
    }
   ],
   "source": [
    "print(dataset.head())"
   ]
  },
  {
   "cell_type": "code",
   "execution_count": 238,
   "metadata": {
    "collapsed": true
   },
   "outputs": [
    {
     "name": "stdout",
     "output_type": "stream",
     "text": [
      "[[  0.   0.   0. ...   0.   0.   0.]\n",
      " [  0.   0.   0. ...   0.   0.   0.]\n",
      " [  0.   0.   0. ...   0.   0.   0.]\n",
      " ...\n",
      " [116.  53.  56. ...  29.  33.  25.]\n",
      " [116.  53.  56. ...  29.  33.  25.]\n",
      " [116.  53.  56. ...  30.  33.  25.]]\n"
     ]
    }
   ],
   "source": [
    "reward = dataset.iloc[:,1:-1].values.astype('float')\n",
    "print(reward)"
   ]
  },
  {
   "cell_type": "code",
   "execution_count": 239,
   "metadata": {
    "collapsed": true
   },
   "outputs": [
    {
     "name": "stdout",
     "output_type": "stream",
     "text": [
      "(400,)\n",
      "[ 0.          0.          0.          0.          0.          0.\n",
      "  0.          0.          0.          0.          0.          0.\n",
      "  0.          0.52631579  0.52631579  0.52631579  0.63157895  0.63157895\n",
      "  0.63157895  1.15789474  1.15789474  1.68421053  1.68421053  1.68421053\n",
      "  1.68421053  1.68421053  1.73684211  1.73684211  1.73684211  2.26315789\n",
      "  2.26315789  2.26315789  2.26315789  2.26315789  2.26315789  2.26315789\n",
      "  2.26315789  2.26315789  2.26315789  2.78947368  2.78947368  2.78947368\n",
      "  2.78947368  2.78947368  2.84210526  3.36842105  3.36842105  3.42105263\n",
      "  3.42105263  3.94736842  4.          4.52631579  4.52631579  5.05263158\n",
      "  5.05263158  5.57894737  5.57894737  5.57894737  5.63157895  5.68421053\n",
      "  5.68421053  5.68421053  5.78947368  5.84210526  5.84210526  5.84210526\n",
      "  5.84210526  6.36842105  6.42105263  6.42105263  6.42105263  6.42105263\n",
      "  6.42105263  6.42105263  6.42105263  6.94736842  6.94736842  7.\n",
      "  7.          7.          7.          7.          7.05263158  7.05263158\n",
      "  7.05263158  7.05263158  7.05263158  8.10526316  8.15789474  8.15789474\n",
      "  8.26315789  8.26315789  8.26315789  8.26315789  8.26315789  8.78947368\n",
      "  8.78947368  8.78947368  8.78947368  8.78947368  8.78947368  9.31578947\n",
      "  9.31578947  9.36842105  9.36842105  9.89473684 10.47368421 11.\n",
      " 11.         11.         11.         11.05263158 11.05263158 11.05263158\n",
      " 11.05263158 11.10526316 11.10526316 11.68421053 11.68421053 11.73684211\n",
      " 11.73684211 12.26315789 12.26315789 12.78947368 12.84210526 12.84210526\n",
      " 12.84210526 13.47368421 13.47368421 13.47368421 13.52631579 13.52631579\n",
      " 13.52631579 14.63157895 14.73684211 14.73684211 14.73684211 14.78947368\n",
      " 14.78947368 14.78947368 14.78947368 15.31578947 15.31578947 15.36842105\n",
      " 15.36842105 15.36842105 15.47368421 15.47368421 15.52631579 15.57894737\n",
      " 15.57894737 15.57894737 15.63157895 15.63157895 15.63157895 15.68421053\n",
      " 15.78947368 15.78947368 15.78947368 16.36842105 16.42105263 17.\n",
      " 17.         17.         17.05263158 17.05263158 17.05263158 17.10526316\n",
      " 17.10526316 17.63157895 18.15789474 18.21052632 18.26315789 18.31578947\n",
      " 18.31578947 18.31578947 18.84210526 18.94736842 18.94736842 18.94736842\n",
      " 18.94736842 20.         20.         20.52631579 20.57894737 20.57894737\n",
      " 21.10526316 22.21052632 22.21052632 22.73684211 22.73684211 22.73684211\n",
      " 22.73684211 22.78947368 22.78947368 22.78947368 22.78947368 22.78947368\n",
      " 22.84210526 22.84210526 23.         23.         23.05263158 23.57894737\n",
      " 23.57894737 24.10526316 24.10526316 24.15789474 24.15789474 24.68421053\n",
      " 24.68421053 24.68421053 24.78947368 24.78947368 24.89473684 25.52631579\n",
      " 25.63157895 26.15789474 26.15789474 26.15789474 26.68421053 26.68421053\n",
      " 26.68421053 26.73684211 26.73684211 26.78947368 26.78947368 27.31578947\n",
      " 27.31578947 27.36842105 27.36842105 27.42105263 27.42105263 27.47368421\n",
      " 27.52631579 28.15789474 28.15789474 28.21052632 28.26315789 28.36842105\n",
      " 28.42105263 28.42105263 28.42105263 28.94736842 29.         29.57894737\n",
      " 29.63157895 30.15789474 30.15789474 30.15789474 30.26315789 30.26315789\n",
      " 30.26315789 30.31578947 30.31578947 30.84210526 31.47368421 31.47368421\n",
      " 31.47368421 31.52631579 31.57894737 32.21052632 32.21052632 33.31578947\n",
      " 33.31578947 33.31578947 33.31578947 33.31578947 33.36842105 33.36842105\n",
      " 33.36842105 33.94736842 34.         34.05263158 34.05263158 34.05263158\n",
      " 34.21052632 34.21052632 34.73684211 35.78947368 35.84210526 35.84210526\n",
      " 35.84210526 36.94736842 36.94736842 36.94736842 36.94736842 36.94736842\n",
      " 36.94736842 37.47368421 37.47368421 38.05263158 38.05263158 38.57894737\n",
      " 39.21052632 39.21052632 39.84210526 40.89473684 40.89473684 40.89473684\n",
      " 40.89473684 41.42105263 41.42105263 41.52631579 41.57894737 41.63157895\n",
      " 41.68421053 41.68421053 41.68421053 42.84210526 42.89473684 42.89473684\n",
      " 42.89473684 42.94736842 42.94736842 43.         43.         43.57894737\n",
      " 44.63157895 45.21052632 45.26315789 45.84210526 45.94736842 45.94736842\n",
      " 45.94736842 47.05263158 47.10526316 47.68421053 47.68421053 47.73684211\n",
      " 47.73684211 47.78947368 47.84210526 48.36842105 48.42105263 48.94736842\n",
      " 48.94736842 49.         49.15789474 49.68421053 49.84210526 50.89473684\n",
      " 50.94736842 52.15789474 52.68421053 53.21052632 53.26315789 53.89473684\n",
      " 53.89473684 54.52631579 54.63157895 55.68421053 55.68421053 56.21052632\n",
      " 56.21052632 56.26315789 56.31578947 57.42105263 57.47368421 58.57894737\n",
      " 59.15789474 59.73684211 59.73684211 59.73684211 59.84210526 60.47368421\n",
      " 60.47368421 62.05263158 62.15789474 62.21052632 62.26315789 62.31578947\n",
      " 62.31578947 63.36842105 63.47368421 64.10526316 64.63157895 65.73684211\n",
      " 65.84210526 65.84210526 65.84210526 66.47368421 66.47368421 67.\n",
      " 67.57894737 68.15789474 68.21052632 69.36842105 69.42105263 70.47368421\n",
      " 70.52631579 71.05263158 71.57894737 72.10526316 72.15789474 72.26315789\n",
      " 72.36842105 72.89473684 72.89473684 73.52631579]\n"
     ]
    }
   ],
   "source": [
    "avg_reward = np.mean(reward,axis=1)\n",
    "print(avg_reward.shape)\n",
    "print(avg_reward)"
   ]
  },
  {
   "cell_type": "markdown",
   "metadata": {},
   "source": [
    "## Plotting rewards"
   ]
  },
  {
   "cell_type": "code",
   "execution_count": 21,
   "metadata": {},
   "outputs": [],
   "source": [
    "## First setting\n",
    "setting = '3-12'\n",
    "def extract_reward_beta_social(setting):\n",
    "    \n",
    "    list_of_files = glob.glob('./social/*'+setting+'*.txt')   # create the list of file\n",
    "    dataset = DataFrame({\"Step\":range(400)})\n",
    "    dataset_beta = DataFrame({\"Step\":range(400)})\n",
    "    count = 1;\n",
    "    name_list = []\n",
    "    for file_name in list_of_files:\n",
    "        #print(file_name)\n",
    "        #name = re.search(r'[./a-zA-Z0-9]_[a-z](.+?).txt',file_name)\n",
    "        #name = re.search( r'(.*) are (.*?) .*', line,\n",
    "        sub_name = './social/social_'+setting+'_'\n",
    "        start = file_name.find(sub_name) + len(sub_name)\n",
    "        end = file_name.find('.txt',start)\n",
    "        name = file_name[start:end]\n",
    "        name = name.replace('_','')\n",
    "        #print(name)\n",
    "        data = pd.read_csv(file_name,header=None)\n",
    "        data = data.replace(\" \", \"\")\n",
    "        d = []\n",
    "        for i in data.iloc[:,3]:\n",
    "            i = re.sub(r'[ a-z]+','',i)\n",
    "            d.append(i)\n",
    "        dataset[name] = d#.astype(\"float\")\n",
    "        dataset_beta[name]=data.iloc[:,2]\n",
    "        #print(DataFrame.max(dataset_beta))\n",
    "    \n",
    "    return dataset,dataset_beta\n",
    "\n",
    "\n",
    "def nonsocial_avg_reward():\n",
    "    nonsocial_file = 'log_nonsocial29.txt'\n",
    "    data = pd.read_csv(nonsocial_file,header=None)\n",
    "    reward = data.iloc[:,1].values.astype('float')\n",
    "    beta = data.iloc[:,2].values.astype('float')\n",
    "    print(reward.shape)\n",
    "    #print(reward)\n",
    "    return(reward,beta)"
   ]
  },
  {
   "cell_type": "code",
   "execution_count": 22,
   "metadata": {
    "scrolled": true
   },
   "outputs": [
    {
     "name": "stdout",
     "output_type": "stream",
     "text": [
      "Index(['Step', 'eli', 'apoorva', 'xiang', 'cao', 'xianhao', 'lyu', 'tim',\n",
      "       'snehal', 'lu', 'marianne', 'sanne', 'paul', 'han', 'simone', 'Ziyu',\n",
      "       'teresa', 'chitra', 'fanis', 'liu', 'shiyu'],\n",
      "      dtype='object')\n"
     ]
    }
   ],
   "source": [
    "setting1 = '3-12'\n",
    "reward_df_s1, beta_df_s1 = extract_reward_beta_social(setting1)\n",
    "\n",
    "setting2 = '12-3'\n",
    "reward_df_s2,beta_df_s2 = extract_reward_beta_social(setting2)\n",
    "\n",
    "cols = reward_df_s1.columns\n",
    "print(cols)\n",
    "reward_df_s2 = reward_df_s2[list(cols)]\n",
    "\n",
    "reward_s1 = reward_df_s1.iloc[:,1:-1].values.astype('float')\n",
    "beta_s1 = beta_df_s1.iloc[:,1:-1].values.astype('float')\n",
    "\n",
    "reward_s2 = reward_df_s2.iloc[:,1:-1].values.astype('float')\n",
    "beta_s2 = beta_df_s2.iloc[:,1:-1].values.astype('float')\n",
    "    \n",
    "idx_max = np.argmax(reward_df_s2.iloc[-1,1:-1].values.astype('float'))\n",
    "idx_min = np.argmin(reward_df_s2.iloc[-1,1:-1].values.astype('float'))\n",
    "    \n",
    "beta_max = beta_df_s2.iloc[:,idx_max+1].values.astype('float')\n",
    "beta_min = beta_df_s2.iloc[:,idx_min+1].values.astype('float')"
   ]
  },
  {
   "cell_type": "code",
   "execution_count": 41,
   "metadata": {},
   "outputs": [
    {
     "name": "stdout",
     "output_type": "stream",
     "text": [
      "(400,)\n"
     ]
    }
   ],
   "source": [
    "#avage reward and beta computing\n",
    "\n",
    "avg_reward_s1 = np.mean(reward_s1,axis=1)\n",
    "avg_beta_s1 = np.mean(beta_s1,axis=1)\n",
    "\n",
    "avg_reward_s2 = np.mean(reward_s2,axis=1)\n",
    "avg_beta_s2 = np.mean(beta_s2,axis=1)\n",
    "\n",
    "#nonsocial\n",
    "avg_reward_nonsocial,avg_beta_nonsocial = nonsocial_avg_reward()"
   ]
  },
  {
   "cell_type": "code",
   "execution_count": 24,
   "metadata": {},
   "outputs": [
    {
     "name": "stdout",
     "output_type": "stream",
     "text": [
      "     Step    eli apoorva xiang   cao xianhao  lyu   tim snehal     lu  ...    \\\n",
      "396   396  116.0    53.0  56.0  20.0    26.0  8.0  25.0  270.0  142.0  ...     \n",
      "397   397  116.0    53.0  56.0  20.0    26.0  8.0  25.0  280.0  142.0  ...     \n",
      "398   398  116.0    53.0  56.0  20.0    26.0  8.0  25.0  280.0  142.0  ...     \n",
      "\n",
      "     sanne   paul   han simone   Ziyu teresa chitra fanis   liu  shiyu  \n",
      "396  240.0  102.0  47.0   18.0  105.0   41.0   29.0  33.0  25.0  130.0  \n",
      "397  240.0  102.0  47.0   18.0  105.0   41.0   29.0  33.0  25.0  130.0  \n",
      "398  240.0  102.0  47.0   18.0  105.0   41.0   29.0  33.0  25.0  130.0  \n",
      "\n",
      "[3 rows x 21 columns]\n",
      "     Step   eli apoorva xiang   cao xianhao   lyu   tim snehal    lu  ...   \\\n",
      "396   396  71.0   103.0  55.0  20.0    19.0  60.0  30.0   15.0  17.0  ...    \n",
      "397   397  71.0   103.0  55.0  20.0    19.0  60.0  30.0   15.0  18.0  ...    \n",
      "398   398  71.0   103.0  55.0  20.0    19.0  60.0  30.0   15.0  18.0  ...    \n",
      "\n",
      "     sanne   paul   han simone   Ziyu teresa chitra fanis   liu shiyu  \n",
      "396  262.0  142.0  26.0   19.0  231.0   28.0  221.0  52.0  29.0  36.0  \n",
      "397  262.0  142.0  26.0   19.0  231.0   28.0  221.0  52.0  29.0  36.0  \n",
      "398  262.0  142.0  27.0   19.0  231.0   28.0  221.0  52.0  29.0  36.0  \n",
      "\n",
      "[3 rows x 21 columns]\n"
     ]
    }
   ],
   "source": [
    "print(reward_df_s1.iloc[-4:-1,:])\n",
    "print(reward_df_s2.iloc[-4:-1,:])"
   ]
  },
  {
   "cell_type": "code",
   "execution_count": 25,
   "metadata": {
    "scrolled": true
   },
   "outputs": [
    {
     "data": {
      "image/png": "[encoded data removed]",
      "text/plain": [
       "<matplotlib.figure.Figure at 0x10dd64470>"
      ]
     },
     "metadata": {},
     "output_type": "display_data"
    }
   ],
   "source": [
    "import matplotlib.pyplot as plt\n",
    "%matplotlib inline  \n",
    "plt.plot(range(400),avg_reward_s2,label='+_explore',color='red')\n",
    "plt.plot(range(400), avg_reward_s1,label='--_explore',color='blue')\n",
    "plt.plot(range(400),avg_reward_nonsocial,label='nonsocial',color='black')\n",
    "#plt.axis([0, 6, 0, 20])\n",
    "plt.title(\"Average Accumulated reward\")\n",
    "plt.legend()\n",
    "plt.show()"
   ]
  },
  {
   "cell_type": "markdown",
   "metadata": {},
   "source": [
    "## Plotting beta"
   ]
  },
  {
   "cell_type": "code",
   "execution_count": 50,
   "metadata": {},
   "outputs": [
    {
     "data": {
      "image/png": "[encoded data removed]",
      "text/plain": [
       "<matplotlib.figure.Figure at 0x113f7b9e8>"
      ]
     },
     "metadata": {},
     "output_type": "display_data"
    }
   ],
   "source": [
    "import matplotlib.pyplot as plt\n",
    "\n",
    "plt.plot(range(400),avg_beta_s2,label='+_explore',color='red')\n",
    "plt.plot(range(400), avg_beta_s1,label='--_explore',color='blue')\n",
    "plt.plot(range(400),avg_beta_nonsocial,label='nonsocial',color='black')\n",
    "\n",
    "plt.title(\"Beta\")\n",
    "#plt.axis([0, 6, 0, 20])\n",
    "plt.legend()\n",
    "plt.show()"
   ]
  },
  {
   "cell_type": "code",
   "execution_count": 27,
   "metadata": {
    "scrolled": false
   },
   "outputs": [
    {
     "name": "stdout",
     "output_type": "stream",
     "text": [
      "[ 116.   53.   56.   20.   26.    8.   26.  280.  142.   19.  250.  102.\n",
      "   47.   18.  105.   41.   30.   33.   25.]\n",
      "[  71.  103.   55.   20.   19.   60.   30.   15.   18.   38.  272.  152.\n",
      "   27.   19.  231.   28.  221.   52.   29.]\n"
     ]
    },
    {
     "data": {
      "text/plain": [
       "<matplotlib.legend.Legend at 0x113e13e80>"
      ]
     },
     "execution_count": 27,
     "metadata": {},
     "output_type": "execute_result"
    },
    {
     "data": {
      "image/png": "[encoded data removed]",
      "text/plain": [
       "<matplotlib.figure.Figure at 0x109778128>"
      ]
     },
     "metadata": {},
     "output_type": "display_data"
    }
   ],
   "source": [
    "person_reward_s1 = reward_df_s1.iloc[-1:,1:-1].values[0].astype('float')\n",
    "print(person_reward_s1)\n",
    "person_reward_s2 = reward_df_s2.iloc[-1:,1:-1].values[0].astype('float')\n",
    "print(person_reward_s2)\n",
    "\n",
    "fig, ax = plt.subplots()\n",
    "\n",
    "bar_width = 0.5\n",
    "opacity = 0.4\n",
    "error_config = {'ecolor': '0.5'}\n",
    "index = np.arange(len(person_reward_s1))\n",
    "\n",
    "\n",
    "rects2 = ax.bar(index,person_reward_s2, bar_width,\n",
    "                alpha=opacity, color='r',error_kw=error_config,label='+_explore')\n",
    "rects1 = ax.bar(index+bar_width,person_reward_s1, bar_width,\n",
    "                alpha=opacity, color='b',error_kw=error_config,label='--_explore')\n",
    "\n",
    "ax.plot(index,[avg_reward_nonsocial[-1]]*len(index),linestyle='--')\n",
    "\n",
    "ax.set_ylabel('Accumulated reward')\n",
    "ax.set_title('Reward by participants and settings')\n",
    "ax.set_xticks(index + bar_width / 2)\n",
    "ax.set_xticklabels(range(1,len(cols)))\n",
    "# ax.set_xticklabels(cols)\n",
    "#ax.set_yticklabels(0,int(max_r))\n",
    "ax.legend()\n"
   ]
  },
  {
   "cell_type": "markdown",
   "metadata": {},
   "source": [
    "## ANOVA"
   ]
  },
  {
   "cell_type": "code",
   "execution_count": 28,
   "metadata": {},
   "outputs": [],
   "source": [
    "import plotly.plotly as py\n",
    "import plotly.graph_objs as go\n",
    "from plotly.tools import FigureFactory as FF\n",
    "\n",
    "import numpy as np\n",
    "import pandas as pd\n",
    "import scipy\n",
    "\n",
    "import statsmodels\n",
    "import statsmodels.api as sm\n",
    "from statsmodels.formula.api import ols"
   ]
  },
  {
   "cell_type": "code",
   "execution_count": 44,
   "metadata": {
    "scrolled": true
   },
   "outputs": [
    {
     "name": "stdout",
     "output_type": "stream",
     "text": [
      "         beta     reward  step\n",
      "396  8.096079  72.368421   396\n",
      "397  7.911440  72.894737   397\n",
      "398  7.145534  72.894737   398\n",
      "399  6.860218  73.526316   399\n",
      "                 sum_sq     df            F         PR(>F)\n",
      "beta          95.122545    1.0     4.915049   2.718961e-02\n",
      "step      153643.016246    1.0  7938.842665  1.459658e-264\n",
      "Residual    7683.270727  397.0          NaN            NaN\n",
      "                 sum_sq     df            F         PR(>F)\n",
      "beta           2.584356    1.0     0.105691   7.452759e-01\n",
      "step      130046.277496    1.0  5318.413852  5.055608e-232\n",
      "Residual    9707.475500  397.0          NaN            NaN\n",
      "               sum_sq     df          F        PR(>F)\n",
      "beta       111.956369    1.0   7.630455  6.005825e-03\n",
      "step      1062.778085    1.0  72.434296  3.586138e-16\n",
      "Residual  5824.905124  397.0        NaN           NaN\n"
     ]
    }
   ],
   "source": [
    "\n",
    "df_r_b_s1 = DataFrame({'step':range(400),'reward':avg_reward_s1,'beta':avg_beta_s1})\n",
    "df_r_b_s2 = DataFrame({'step':range(400),'reward':avg_reward_s2,'beta':avg_beta_s2})\n",
    "print(df_r_b_s1.iloc[-4:,:])\n",
    "\n",
    "df_r_b_normal = DataFrame({'step':range(400),'reward':avg_reward_nonsocial,'beta':avg_beta_nonsocial})\n",
    "# reward_df_s1['avg'] = avg_reward_s1\n",
    "# reward_df_s2['avg'] = avg_reward_s2\n",
    "\n",
    "def show_anova_t2(data):\n",
    "    lm = ols('reward~beta+step',data=data).fit()\n",
    "    table = sm.stats.anova_lm(lm, typ=2) # Type 2 ANOVA DataFrame\n",
    "    print(table)\n",
    "    return lm\n",
    "\n",
    "lm_s1 = show_anova_t2(df_r_b_s1)\n",
    "lm_s2 = show_anova_t2(df_r_b_s2)\n",
    "lm_nonsocial = show_anova_t2(df_r_b_normal)\n"
   ]
  },
  {
   "cell_type": "code",
   "execution_count": 47,
   "metadata": {},
   "outputs": [
    {
     "name": "stdout",
     "output_type": "stream",
     "text": [
      "   df_resid          ssr  df_diff      ss_diff    F  Pr(>F)\n",
      "0     397.0  5824.905124      0.0          NaN  NaN     NaN\n",
      "1     397.0  7683.270727     -0.0 -1858.365603  inf     NaN\n",
      "2     397.0  9707.475500     -0.0 -2024.204773  inf     NaN\n"
     ]
    },
    {
     "name": "stderr",
     "output_type": "stream",
     "text": [
      "/Users/lizy/anaconda3/lib/python3.6/site-packages/scipy/stats/_distn_infrastructure.py:879: RuntimeWarning:\n",
      "\n",
      "invalid value encountered in greater\n",
      "\n",
      "/Users/lizy/anaconda3/lib/python3.6/site-packages/scipy/stats/_distn_infrastructure.py:879: RuntimeWarning:\n",
      "\n",
      "invalid value encountered in less\n",
      "\n",
      "/Users/lizy/anaconda3/lib/python3.6/site-packages/scipy/stats/_distn_infrastructure.py:1821: RuntimeWarning:\n",
      "\n",
      "invalid value encountered in less_equal\n",
      "\n"
     ]
    }
   ],
   "source": [
    "def show_anova_t1(lm_s1,lm_s2,lm_nonsocial):\n",
    "    table = sm.stats.anova_lm(lm_s1,lm_s2,lm_nonsocial, typ=1) # Type 2 ANOVA DataFrame\n",
    "    print(table)\n",
    "  \n",
    "show_anova_t1(lm_nonsocial,lm_s1,lm_s2)"
   ]
  },
  {
   "cell_type": "code",
   "execution_count": null,
   "metadata": {},
   "outputs": [],
   "source": []
  }
 ],
 "metadata": {
  "kernelspec": {
   "display_name": "Python 3",
   "language": "python",
   "name": "python3"
  },
  "language_info": {
   "codemirror_mode": {
    "name": "ipython",
    "version": 3
   },
   "file_extension": ".py",
   "mimetype": "text/x-python",
   "name": "python",
   "nbconvert_exporter": "python",
   "pygments_lexer": "ipython3",
   "version": "3.6.4"
  }
 },
 "nbformat": 4,
 "nbformat_minor": 2
}
