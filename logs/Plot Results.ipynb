{
 "cells": [
  {
   "cell_type": "markdown",
   "metadata": {},
   "source": [
    "# Plotting Accumulated Rewards"
   ]
  },
  {
   "cell_type": "code",
   "execution_count": 34,
   "metadata": {},
   "outputs": [],
   "source": [
    "import pandas as pd\n",
    "import numpy as np\n",
    "import glob\n",
    "import re\n",
    "from pandas import DataFrame"
   ]
  },
  {
   "cell_type": "code",
   "execution_count": 39,
   "metadata": {},
   "outputs": [
    {
     "name": "stdout",
     "output_type": "stream",
     "text": [
      "./social/Social_3-12_eli.txt\n",
      "./social/social_3-12_apoorva.txt\n",
      "./social/social_3-12_xiang.txt\n",
      "./social/social_3-12_cao.txt\n",
      "./social/social_3-12_xianhao.txt\n",
      "./social/social_3-12_lyu.txt\n",
      "./social/Social_3-12_tim.txt\n",
      "./social/social_3-12_snehal.txt\n",
      "./social/social_3-12_lu.txt\n",
      "./social/Social_3-12_marianne.txt\n",
      "./social/Social_3-12_sanne.txt\n",
      "./social/social_3-12_paul.txt\n",
      "./social/social_3-12_han.txt\n",
      "./social/social_3-12_simone.txt\n",
      "./social/social_3-12_Ziyu.txt\n",
      "./social/social_3-12_teresa.txt\n",
      "./social/social_3-12_chitra.txt\n",
      "./social/social_3-12_fanis.txt\n",
      "./social/social_3-12_liu.txt\n",
      "./social/social_3-12_shiyu.txt\n"
     ]
    }
   ],
   "source": [
    "## First setting\n",
    "list_of_files = glob.glob('./social/*3-12*.txt')   # create the list of file\n",
    "dataset = DataFrame({\"Step\":range(400)})\n",
    "count = 1;\n",
    "for file_name in list_of_files:\n",
    "    print(file_name)\n",
    "    data = pd.read_csv(file_name,header=None)\n",
    "    data = data.replace(\" \", \"\")\n",
    "    d = []\n",
    "    for i in data.iloc[:,3]:\n",
    "        i = re.sub(r'[ a-z]+','',i)\n",
    "        d.append(i)\n",
    "    dataset[str(count)] = d#.astype(\"float\")\n",
    "    #print([:5])\n",
    "    count = count+1"
   ]
  },
  {
   "cell_type": "code",
   "execution_count": 40,
   "metadata": {
    "collapsed": true
   },
   "outputs": [
    {
     "name": "stdout",
     "output_type": "stream",
     "text": [
      "   Step    1    2    3    4    5    6    7    8    9 ...    11   12   13   14  \\\n",
      "0     0  0.0  0.0  0.0  0.0  0.0  0.0  0.0  0.0  0.0 ...   0.0  0.0  0.0  0.0   \n",
      "1     1  0.0  0.0  0.0  0.0  0.0  0.0  0.0  0.0  0.0 ...   0.0  0.0  0.0  0.0   \n",
      "2     2  0.0  0.0  0.0  0.0  0.0  0.0  0.0  0.0  0.0 ...   0.0  0.0  0.0  0.0   \n",
      "3     3  0.0  0.0  0.0  0.0  0.0  0.0  0.0  0.0  0.0 ...   0.0  0.0  0.0  0.0   \n",
      "4     4  0.0  0.0  0.0  0.0  0.0  0.0  0.0  0.0  0.0 ...   0.0  0.0  0.0  0.0   \n",
      "\n",
      "    15   16   17   18   19   20  \n",
      "0  0.0  0.0  0.0  0.0  0.0  0.0  \n",
      "1  0.0  0.0  0.0  0.0  0.0  0.0  \n",
      "2  0.0  0.0  0.0  0.0  0.0  0.0  \n",
      "3  0.0  0.0  0.0  0.0  0.0  0.0  \n",
      "4  0.0  0.0  0.0  0.0  0.0  0.0  \n",
      "\n",
      "[5 rows x 21 columns]\n"
     ]
    }
   ],
   "source": [
    "print(dataset.head())"
   ]
  },
  {
   "cell_type": "code",
   "execution_count": 44,
   "metadata": {
    "collapsed": true
   },
   "outputs": [
    {
     "name": "stdout",
     "output_type": "stream",
     "text": [
      "[[  0.   0.   0. ...   0.   0.   0.]\n",
      " [  0.   0.   0. ...   0.   0.   0.]\n",
      " [  0.   0.   0. ...   0.   0.   0.]\n",
      " ...\n",
      " [116.  53.  56. ...  29.  33.  25.]\n",
      " [116.  53.  56. ...  29.  33.  25.]\n",
      " [116.  53.  56. ...  30.  33.  25.]]\n"
     ]
    }
   ],
   "source": [
    "reward = dataset.iloc[:,1:-1].values.astype('float')\n",
    "print(reward)"
   ]
  },
  {
   "cell_type": "code",
   "execution_count": 46,
   "metadata": {
    "collapsed": true
   },
   "outputs": [
    {
     "name": "stdout",
     "output_type": "stream",
     "text": [
      "(400,)\n",
      "[ 0.          0.          0.          0.          0.          0.\n",
      "  0.          0.          0.          0.          0.          0.\n",
      "  0.          0.52631579  0.52631579  0.52631579  0.63157895  0.63157895\n",
      "  0.63157895  1.15789474  1.15789474  1.68421053  1.68421053  1.68421053\n",
      "  1.68421053  1.68421053  1.73684211  1.73684211  1.73684211  2.26315789\n",
      "  2.26315789  2.26315789  2.26315789  2.26315789  2.26315789  2.26315789\n",
      "  2.26315789  2.26315789  2.26315789  2.78947368  2.78947368  2.78947368\n",
      "  2.78947368  2.78947368  2.84210526  3.36842105  3.36842105  3.42105263\n",
      "  3.42105263  3.94736842  4.          4.52631579  4.52631579  5.05263158\n",
      "  5.05263158  5.57894737  5.57894737  5.57894737  5.63157895  5.68421053\n",
      "  5.68421053  5.68421053  5.78947368  5.84210526  5.84210526  5.84210526\n",
      "  5.84210526  6.36842105  6.42105263  6.42105263  6.42105263  6.42105263\n",
      "  6.42105263  6.42105263  6.42105263  6.94736842  6.94736842  7.\n",
      "  7.          7.          7.          7.          7.05263158  7.05263158\n",
      "  7.05263158  7.05263158  7.05263158  8.10526316  8.15789474  8.15789474\n",
      "  8.26315789  8.26315789  8.26315789  8.26315789  8.26315789  8.78947368\n",
      "  8.78947368  8.78947368  8.78947368  8.78947368  8.78947368  9.31578947\n",
      "  9.31578947  9.36842105  9.36842105  9.89473684 10.47368421 11.\n",
      " 11.         11.         11.         11.05263158 11.05263158 11.05263158\n",
      " 11.05263158 11.10526316 11.10526316 11.68421053 11.68421053 11.73684211\n",
      " 11.73684211 12.26315789 12.26315789 12.78947368 12.84210526 12.84210526\n",
      " 12.84210526 13.47368421 13.47368421 13.47368421 13.52631579 13.52631579\n",
      " 13.52631579 14.63157895 14.73684211 14.73684211 14.73684211 14.78947368\n",
      " 14.78947368 14.78947368 14.78947368 15.31578947 15.31578947 15.36842105\n",
      " 15.36842105 15.36842105 15.47368421 15.47368421 15.52631579 15.57894737\n",
      " 15.57894737 15.57894737 15.63157895 15.63157895 15.63157895 15.68421053\n",
      " 15.78947368 15.78947368 15.78947368 16.36842105 16.42105263 17.\n",
      " 17.         17.         17.05263158 17.05263158 17.05263158 17.10526316\n",
      " 17.10526316 17.63157895 18.15789474 18.21052632 18.26315789 18.31578947\n",
      " 18.31578947 18.31578947 18.84210526 18.94736842 18.94736842 18.94736842\n",
      " 18.94736842 20.         20.         20.52631579 20.57894737 20.57894737\n",
      " 21.10526316 22.21052632 22.21052632 22.73684211 22.73684211 22.73684211\n",
      " 22.73684211 22.78947368 22.78947368 22.78947368 22.78947368 22.78947368\n",
      " 22.84210526 22.84210526 23.         23.         23.05263158 23.57894737\n",
      " 23.57894737 24.10526316 24.10526316 24.15789474 24.15789474 24.68421053\n",
      " 24.68421053 24.68421053 24.78947368 24.78947368 24.89473684 25.52631579\n",
      " 25.63157895 26.15789474 26.15789474 26.15789474 26.68421053 26.68421053\n",
      " 26.68421053 26.73684211 26.73684211 26.78947368 26.78947368 27.31578947\n",
      " 27.31578947 27.36842105 27.36842105 27.42105263 27.42105263 27.47368421\n",
      " 27.52631579 28.15789474 28.15789474 28.21052632 28.26315789 28.36842105\n",
      " 28.42105263 28.42105263 28.42105263 28.94736842 29.         29.57894737\n",
      " 29.63157895 30.15789474 30.15789474 30.15789474 30.26315789 30.26315789\n",
      " 30.26315789 30.31578947 30.31578947 30.84210526 31.47368421 31.47368421\n",
      " 31.47368421 31.52631579 31.57894737 32.21052632 32.21052632 33.31578947\n",
      " 33.31578947 33.31578947 33.31578947 33.31578947 33.36842105 33.36842105\n",
      " 33.36842105 33.94736842 34.         34.05263158 34.05263158 34.05263158\n",
      " 34.21052632 34.21052632 34.73684211 35.78947368 35.84210526 35.84210526\n",
      " 35.84210526 36.94736842 36.94736842 36.94736842 36.94736842 36.94736842\n",
      " 36.94736842 37.47368421 37.47368421 38.05263158 38.05263158 38.57894737\n",
      " 39.21052632 39.21052632 39.84210526 40.89473684 40.89473684 40.89473684\n",
      " 40.89473684 41.42105263 41.42105263 41.52631579 41.57894737 41.63157895\n",
      " 41.68421053 41.68421053 41.68421053 42.84210526 42.89473684 42.89473684\n",
      " 42.89473684 42.94736842 42.94736842 43.         43.         43.57894737\n",
      " 44.63157895 45.21052632 45.26315789 45.84210526 45.94736842 45.94736842\n",
      " 45.94736842 47.05263158 47.10526316 47.68421053 47.68421053 47.73684211\n",
      " 47.73684211 47.78947368 47.84210526 48.36842105 48.42105263 48.94736842\n",
      " 48.94736842 49.         49.15789474 49.68421053 49.84210526 50.89473684\n",
      " 50.94736842 52.15789474 52.68421053 53.21052632 53.26315789 53.89473684\n",
      " 53.89473684 54.52631579 54.63157895 55.68421053 55.68421053 56.21052632\n",
      " 56.21052632 56.26315789 56.31578947 57.42105263 57.47368421 58.57894737\n",
      " 59.15789474 59.73684211 59.73684211 59.73684211 59.84210526 60.47368421\n",
      " 60.47368421 62.05263158 62.15789474 62.21052632 62.26315789 62.31578947\n",
      " 62.31578947 63.36842105 63.47368421 64.10526316 64.63157895 65.73684211\n",
      " 65.84210526 65.84210526 65.84210526 66.47368421 66.47368421 67.\n",
      " 67.57894737 68.15789474 68.21052632 69.36842105 69.42105263 70.47368421\n",
      " 70.52631579 71.05263158 71.57894737 72.10526316 72.15789474 72.26315789\n",
      " 72.36842105 72.89473684 72.89473684 73.52631579]\n"
     ]
    }
   ],
   "source": [
    "avg_reward = np.mean(reward,axis=1)\n",
    "print(avg_reward.shape)\n",
    "print(avg_reward)"
   ]
  },
  {
   "cell_type": "markdown",
   "metadata": {},
   "source": [
    "## Function"
   ]
  },
  {
   "cell_type": "code",
   "execution_count": 80,
   "metadata": {},
   "outputs": [],
   "source": [
    "## First setting\n",
    "setting = '3-12'\n",
    "def avg_reward_social(setting):\n",
    "    \n",
    "    list_of_files = glob.glob('./social/*'+setting+'*.txt')   # create the list of file\n",
    "    dataset = DataFrame({\"Step\":range(400)})\n",
    "    count = 1;\n",
    "    for file_name in list_of_files:\n",
    "        #print(file_name)\n",
    "        data = pd.read_csv(file_name,header=None)\n",
    "        data = data.replace(\" \", \"\")\n",
    "        d = []\n",
    "        for i in data.iloc[:,3]:\n",
    "            i = re.sub(r'[ a-z]+','',i)\n",
    "            d.append(i)\n",
    "        dataset[str(count)] = d#.astype(\"float\")\n",
    "        #print([:5])\n",
    "        count = count+1\n",
    "    reward = dataset.iloc[:,1:-1].values.astype('float')\n",
    "    avg_reward = np.mean(reward,axis=1)\n",
    "    print(avg_reward.shape)\n",
    "    return(avg_reward)\n",
    "\n",
    "def nonsocial_avg_reward():\n",
    "    nonsocial_file = 'log_nonsocial_12-3_1.txt'\n",
    "    data = pd.read_csv(nonsocial_file,header=None)\n",
    "    reward = data.iloc[:,1].values.astype('float')\n",
    "    print(reward.shape)\n",
    "    #print(reward)\n",
    "    return(reward)"
   ]
  },
  {
   "cell_type": "code",
   "execution_count": 81,
   "metadata": {
    "scrolled": true
   },
   "outputs": [
    {
     "name": "stdout",
     "output_type": "stream",
     "text": [
      "(400,)\n",
      "(400,)\n",
      "(400,)\n"
     ]
    }
   ],
   "source": [
    "setting1 = '3-12'\n",
    "avg_reward_s1 = avg_reward_social(setting1)\n",
    "\n",
    "setting2 = '12-3'\n",
    "avg_reward_s2 = avg_reward_social(setting2)\n",
    "\n",
    "avg_reward_nonsocial = nonsocial_avg_reward()"
   ]
  },
  {
   "cell_type": "code",
   "execution_count": 82,
   "metadata": {},
   "outputs": [
    {
     "data": {
      "image/png": "[encoded data removed]",
      "text/plain": [
       "<matplotlib.figure.Figure at 0x11b233f60>"
      ]
     },
     "metadata": {},
     "output_type": "display_data"
    }
   ],
   "source": [
    "import matplotlib.pyplot as plt\n",
    "\n",
    "plt.plot(range(400), avg_reward_s1,label='s1',color='red')\n",
    "plt.plot(range(400),avg_reward_s2,label='s2',color='blue')\n",
    "plt.plot(range(400),avg_reward_nonsocial,label='nonsocial',color='black')\n",
    "#plt.axis([0, 6, 0, 20])\n",
    "plt.legend()\n",
    "plt.show()"
   ]
  },
  {
   "cell_type": "code",
   "execution_count": 54,
   "metadata": {},
   "outputs": [
    {
     "name": "stdout",
     "output_type": "stream",
     "text": [
      "None\n"
     ]
    }
   ],
   "source": [
    "print(avg_reward)"
   ]
  },
  {
   "cell_type": "code",
   "execution_count": null,
   "metadata": {},
   "outputs": [],
   "source": []
  }
 ],
 "metadata": {
  "kernelspec": {
   "display_name": "Python 3",
   "language": "python",
   "name": "python3"
  },
  "language_info": {
   "codemirror_mode": {
    "name": "ipython",
    "version": 3
   },
   "file_extension": ".py",
   "mimetype": "text/x-python",
   "name": "python",
   "nbconvert_exporter": "python",
   "pygments_lexer": "ipython3",
   "version": "3.6.4"
  }
 },
 "nbformat": 4,
 "nbformat_minor": 2
}
